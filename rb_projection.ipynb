{
 "cells": [
  {
   "cell_type": "markdown",
   "id": "3858adde-85ac-4cce-848b-7da303cc5a78",
   "metadata": {},
   "source": [
    "# Running back prediction model\n",
    "\n",
    "## I will ..."
   ]
  },
  {
   "cell_type": "code",
   "execution_count": 1,
   "id": "aa479a09-402b-4653-b1a8-79762b6800df",
   "metadata": {},
   "outputs": [],
   "source": [
    "import pandas as pd\n",
    "import numpy as np\n",
    "import matplotlib.pyplot as plt\n",
    "import seaborn as sns"
   ]
  },
  {
   "cell_type": "code",
   "execution_count": 2,
   "id": "f33d36bd-6353-4d86-aa0a-ab6e66fb792c",
   "metadata": {},
   "outputs": [],
   "source": [
    "year_rb_stats = pd.read_csv(\"data/yearly_player_stats_offense.csv\")\n",
    "week_rb_stats = pd.read_csv(\"data/weekly_player_stats_offense.csv\")\n",
    "fantasy = pd.read_csv(\"data/fantasy_data.csv\")"
   ]
  },
  {
   "cell_type": "code",
   "execution_count": 3,
   "id": "5a44be6d-c6ad-47b9-9e9f-ce049d8f3a2d",
   "metadata": {},
   "outputs": [],
   "source": [
    "# print(year_rb_stats.head())\n",
    "# print(week_rb_stats.head())\n",
    "# print(fantasy.head())"
   ]
  },
  {
   "cell_type": "code",
   "execution_count": null,
   "id": "fae98f40-7d7c-4cf7-a100-a8d9c7efaf56",
   "metadata": {},
   "outputs": [],
   "source": []
  }
 ],
 "metadata": {
  "kernelspec": {
   "display_name": "Python 3 (ipykernel)",
   "language": "python",
   "name": "python3"
  },
  "language_info": {
   "codemirror_mode": {
    "name": "ipython",
    "version": 3
   },
   "file_extension": ".py",
   "mimetype": "text/x-python",
   "name": "python",
   "nbconvert_exporter": "python",
   "pygments_lexer": "ipython3",
   "version": "3.9.21"
  }
 },
 "nbformat": 4,
 "nbformat_minor": 5
}
